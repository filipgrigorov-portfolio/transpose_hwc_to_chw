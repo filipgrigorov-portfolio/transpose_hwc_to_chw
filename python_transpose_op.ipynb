{
 "cells": [
  {
   "cell_type": "code",
   "execution_count": 1,
   "metadata": {},
   "outputs": [],
   "source": [
    "import imageio as io\n",
    "import numpy as np"
   ]
  },
  {
   "cell_type": "code",
   "execution_count": 2,
   "metadata": {},
   "outputs": [],
   "source": [
    "img = io.imread('data/dog.jpeg')"
   ]
  },
  {
   "cell_type": "code",
   "execution_count": 3,
   "metadata": {},
   "outputs": [
    {
     "name": "stdout",
     "output_type": "stream",
     "text": [
      "img: (2656, 1864, 3)\n",
      "\n"
     ]
    }
   ],
   "source": [
    "print(f'img: {img.shape}\\n')"
   ]
  },
  {
   "cell_type": "code",
   "execution_count": 4,
   "metadata": {},
   "outputs": [
    {
     "name": "stdout",
     "output_type": "stream",
     "text": [
      "img_t1: (3, 2656, 1864)\n",
      "\n"
     ]
    }
   ],
   "source": [
    "img_t1 = img.transpose(2, 0, 1)\n",
    "\n",
    "print(f'img_t1: {img_t1.shape}\\n')"
   ]
  },
  {
   "cell_type": "code",
   "execution_count": 5,
   "metadata": {},
   "outputs": [],
   "source": [
    "'''\n",
    "    rgb rgb rgb rgb ... -> rrrr... gggg... bbbb...\n",
    "'''\n",
    "def transpose(tensor):\n",
    "    h, w, chs = tensor.shape\n",
    "    tensor = tensor.flatten()\n",
    "    result = np.zeros_like(tensor)\n",
    "    for row in range(0, h):\n",
    "        for col in range(0, w):\n",
    "            for ch in range(0, chs):\n",
    "                to_idx = ch * h * w + row * w + col\n",
    "                from_idx = row * w * chs + col * chs + ch\n",
    "                result[to_idx] = tensor[from_idx]\n",
    "    return result.reshape(chs, h, w)"
   ]
  },
  {
   "cell_type": "code",
   "execution_count": 6,
   "metadata": {},
   "outputs": [
    {
     "name": "stdout",
     "output_type": "stream",
     "text": [
      "img_t2: (3, 2656, 1864)\n",
      "\n"
     ]
    }
   ],
   "source": [
    "img_t2 = transpose(img)\n",
    "\n",
    "print(f'img_t2: {img_t2.shape}\\n')"
   ]
  },
  {
   "cell_type": "code",
   "execution_count": 7,
   "metadata": {},
   "outputs": [
    {
     "name": "stdout",
     "output_type": "stream",
     "text": [
      "True\n"
     ]
    }
   ],
   "source": [
    "print((img_t1 == img_t2).all())"
   ]
  }
 ],
 "metadata": {
  "kernelspec": {
   "display_name": "Python 3",
   "language": "python",
   "name": "python3"
  },
  "language_info": {
   "codemirror_mode": {
    "name": "ipython",
    "version": 3
   },
   "file_extension": ".py",
   "mimetype": "text/x-python",
   "name": "python",
   "nbconvert_exporter": "python",
   "pygments_lexer": "ipython3",
   "version": "3.9.7"
  }
 },
 "nbformat": 4,
 "nbformat_minor": 4
}
